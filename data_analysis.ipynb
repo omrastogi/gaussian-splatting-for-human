{
 "cells": [
  {
   "cell_type": "code",
   "execution_count": 1,
   "metadata": {},
   "outputs": [],
   "source": [
    "import numpy as np"
   ]
  },
  {
   "cell_type": "code",
   "execution_count": 2,
   "metadata": {},
   "outputs": [
    {
     "name": "stdout",
     "output_type": "stream",
     "text": [
      "[[-3.80442207e-02  6.35684066e-01 -7.71011287e-01 ...  4.64950598e+03\n",
      "   3.46747820e+00  5.80139520e+01]\n",
      " [ 2.25899129e-01  6.09137784e-01 -7.60210986e-01 ...  4.64950598e+03\n",
      "   3.63105887e+00  6.10263076e+01]\n",
      " [ 1.48151567e-02  4.39289825e-01 -8.98223224e-01 ...  4.64950598e+03\n",
      "   3.66833755e+00  5.63840067e+01]\n",
      " ...\n",
      " [-1.41183445e-01  9.57292320e-01 -2.52306656e-01 ...  4.64950598e+03\n",
      "   2.65829130e+00  7.85527377e+00]\n",
      " [-3.56202442e-01  7.79448887e-01 -5.15343820e-01 ...  4.64950598e+03\n",
      "   2.57640091e+00  9.01860208e+00]\n",
      " [-5.13776690e-01  6.03755211e-01 -6.09518792e-01 ...  4.64950598e+03\n",
      "   2.40904448e+00  8.19912110e+00]]\n"
     ]
    }
   ],
   "source": [
    "file_path = '/data/om/gaussian-splatting/data/bicycle/poses_bounds.npy'\n",
    "\n",
    "# Load the array from the .npy file\n",
    "array_from_file = np.load(file_path)\n",
    "\n",
    "# Print the loaded array\n",
    "print(array_from_file)\n"
   ]
  },
  {
   "cell_type": "code",
   "execution_count": 3,
   "metadata": {},
   "outputs": [
    {
     "name": "stdout",
     "output_type": "stream",
     "text": [
      "(194, 17)\n"
     ]
    }
   ],
   "source": [
    "a = array_from_file\n",
    "print(a.shape)\n"
   ]
  },
  {
   "cell_type": "code",
   "execution_count": 11,
   "metadata": {},
   "outputs": [],
   "source": [
    "import os\n",
    "root = \"/data/om/gaussian-splatting/data/bicycle\"\n",
    "t = len(os.listdir(root+\"/images\"))"
   ]
  },
  {
   "cell_type": "code",
   "execution_count": 12,
   "metadata": {},
   "outputs": [
    {
     "data": {
      "text/plain": [
       "194"
      ]
     },
     "execution_count": 12,
     "metadata": {},
     "output_type": "execute_result"
    }
   ],
   "source": [
    "t"
   ]
  },
  {
   "cell_type": "code",
   "execution_count": null,
   "metadata": {},
   "outputs": [],
   "source": []
  }
 ],
 "metadata": {
  "kernelspec": {
   "display_name": "main-exp",
   "language": "python",
   "name": "main-exp"
  },
  "language_info": {
   "codemirror_mode": {
    "name": "ipython",
    "version": 3
   },
   "file_extension": ".py",
   "mimetype": "text/x-python",
   "name": "python",
   "nbconvert_exporter": "python",
   "pygments_lexer": "ipython3",
   "version": "3.7.16"
  }
 },
 "nbformat": 4,
 "nbformat_minor": 2
}
